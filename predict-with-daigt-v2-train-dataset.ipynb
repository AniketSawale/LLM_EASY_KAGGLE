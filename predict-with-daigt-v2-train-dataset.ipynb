{
 "cells": [
  {
   "cell_type": "code",
   "execution_count": 1,
   "id": "7fa80022",
   "metadata": {
    "_cell_guid": "b1076dfc-b9ad-4769-8c92-a6c4dae69d19",
    "_uuid": "8f2839f25d086af736a60e9eeb907d3b93b6e0e5",
    "execution": {
     "iopub.execute_input": "2023-11-29T19:35:12.142428Z",
     "iopub.status.busy": "2023-11-29T19:35:12.141484Z",
     "iopub.status.idle": "2023-11-29T19:35:12.585782Z",
     "shell.execute_reply": "2023-11-29T19:35:12.584620Z"
    },
    "papermill": {
     "duration": 0.456193,
     "end_time": "2023-11-29T19:35:12.589159",
     "exception": false,
     "start_time": "2023-11-29T19:35:12.132966",
     "status": "completed"
    },
    "tags": []
   },
   "outputs": [
    {
     "name": "stdout",
     "output_type": "stream",
     "text": [
      "/kaggle/input/daigt-v2-train-dataset/train_v2_drcat_02.csv\n",
      "/kaggle/input/llm-generated-essays/ai_generated_train_essays.csv\n",
      "/kaggle/input/llm-generated-essays/ai_generated_train_essays_gpt-4.csv\n",
      "/kaggle/input/llm-detect-ai-generated-text/sample_submission.csv\n",
      "/kaggle/input/llm-detect-ai-generated-text/train_prompts.csv\n",
      "/kaggle/input/llm-detect-ai-generated-text/test_essays.csv\n",
      "/kaggle/input/llm-detect-ai-generated-text/train_essays.csv\n"
     ]
    }
   ],
   "source": [
    "# This Python 3 environment comes with many helpful analytics libraries installed\n",
    "# It is defined by the kaggle/python Docker image: https://github.com/kaggle/docker-python\n",
    "# For example, here's several helpful packages to load\n",
    "\n",
    "import numpy as np # linear algebra\n",
    "import pandas as pd # data processing, CSV file I/O (e.g. pd.read_csv)\n",
    "\n",
    "# Input data files are available in the read-only \"../input/\" directory\n",
    "# For example, running this (by clicking run or pressing Shift+Enter) will list all files under the input directory\n",
    "\n",
    "import os\n",
    "for dirname, _, filenames in os.walk('/kaggle/input'):\n",
    "    for filename in filenames:\n",
    "        print(os.path.join(dirname, filename))\n",
    "\n",
    "# You can write up to 20GB to the current directory (/kaggle/working/) that gets preserved as output when you create a version using \"Save & Run All\" \n",
    "# You can also write temporary files to /kaggle/temp/, but they won't be saved outside of the current session"
   ]
  },
  {
   "cell_type": "raw",
   "id": "c4edfe95",
   "metadata": {
    "papermill": {
     "duration": 0.005312,
     "end_time": "2023-11-29T19:35:12.602426",
     "exception": false,
     "start_time": "2023-11-29T19:35:12.597114",
     "status": "completed"
    },
    "tags": []
   },
   "source": []
  },
  {
   "cell_type": "code",
   "execution_count": 2,
   "id": "0c1393af",
   "metadata": {
    "execution": {
     "iopub.execute_input": "2023-11-29T19:35:12.616088Z",
     "iopub.status.busy": "2023-11-29T19:35:12.615450Z",
     "iopub.status.idle": "2023-11-29T19:35:14.491316Z",
     "shell.execute_reply": "2023-11-29T19:35:14.489874Z"
    },
    "papermill": {
     "duration": 1.886536,
     "end_time": "2023-11-29T19:35:14.494625",
     "exception": false,
     "start_time": "2023-11-29T19:35:12.608089",
     "status": "completed"
    },
    "tags": []
   },
   "outputs": [],
   "source": [
    "import numpy as np\n",
    "import pandas as pd\n",
    "from sklearn.linear_model import LogisticRegression\n",
    "from sklearn.feature_extraction.text import TfidfVectorizer\n",
    "from sklearn.ensemble import VotingClassifier\n",
    "from sklearn.linear_model import SGDClassifier\n",
    "from sklearn import tree"
   ]
  },
  {
   "cell_type": "code",
   "execution_count": 3,
   "id": "572ce1a2",
   "metadata": {
    "execution": {
     "iopub.execute_input": "2023-11-29T19:35:14.508840Z",
     "iopub.status.busy": "2023-11-29T19:35:14.507801Z",
     "iopub.status.idle": "2023-11-29T19:35:14.515212Z",
     "shell.execute_reply": "2023-11-29T19:35:14.514020Z"
    },
    "papermill": {
     "duration": 0.017275,
     "end_time": "2023-11-29T19:35:14.517878",
     "exception": false,
     "start_time": "2023-11-29T19:35:14.500603",
     "status": "completed"
    },
    "tags": []
   },
   "outputs": [],
   "source": [
    "def read_data(training_path, test_path):\n",
    "    train = pd.read_csv(training_path)\n",
    "    train = train[train.RDizzl3_seven == True].reset_index(drop=True)\n",
    "    test = pd.read_csv(test_path)\n",
    "    df = pd.concat([train['text'], test['text']], axis=0)\n",
    "    \n",
    "    return df, train, test"
   ]
  },
  {
   "cell_type": "code",
   "execution_count": 4,
   "id": "7582df71",
   "metadata": {
    "execution": {
     "iopub.execute_input": "2023-11-29T19:35:14.531198Z",
     "iopub.status.busy": "2023-11-29T19:35:14.530729Z",
     "iopub.status.idle": "2023-11-29T19:35:14.536785Z",
     "shell.execute_reply": "2023-11-29T19:35:14.535620Z"
    },
    "papermill": {
     "duration": 0.015934,
     "end_time": "2023-11-29T19:35:14.539574",
     "exception": false,
     "start_time": "2023-11-29T19:35:14.523640",
     "status": "completed"
    },
    "tags": []
   },
   "outputs": [],
   "source": [
    "def vectorization(data_frame):\n",
    "    vectorizer = TfidfVectorizer(ngram_range=(1, 3),sublinear_tf=True)\n",
    "    X = vectorizer(data_frame)\n",
    "    return X"
   ]
  },
  {
   "cell_type": "code",
   "execution_count": 5,
   "id": "3f7ffe3d",
   "metadata": {
    "execution": {
     "iopub.execute_input": "2023-11-29T19:35:14.552765Z",
     "iopub.status.busy": "2023-11-29T19:35:14.552371Z",
     "iopub.status.idle": "2023-11-29T19:35:14.560609Z",
     "shell.execute_reply": "2023-11-29T19:35:14.559315Z"
    },
    "papermill": {
     "duration": 0.018005,
     "end_time": "2023-11-29T19:35:14.563279",
     "exception": false,
     "start_time": "2023-11-29T19:35:14.545274",
     "status": "completed"
    },
    "tags": []
   },
   "outputs": [],
   "source": [
    "def model_prediction(train, X):\n",
    "    lr_model = LogisticRegression()\n",
    "    sgd_model = SGDClassifier(max_iter=5000, tol=1e-3, loss=\"modified_huber\")\n",
    "    tree_model = tree.DecisionTreeClassifier()\n",
    "    ensemble = VotingClassifier(estimators=[('lr', lr_model), ('sgd', sgd_model), ('dt', tree_model)], weights=[0.1,0.5, 0.4], voting='soft')\n",
    "    ensemble.fit(X[:train.shape[0]], train.label)\n",
    "    preds_test = ensemble.predict_proba(X[train.shape[0]:])[:,1]\n",
    "    return preds_test"
   ]
  },
  {
   "cell_type": "code",
   "execution_count": 6,
   "id": "2593d321",
   "metadata": {
    "execution": {
     "iopub.execute_input": "2023-11-29T19:35:14.576904Z",
     "iopub.status.busy": "2023-11-29T19:35:14.576252Z",
     "iopub.status.idle": "2023-11-29T19:35:17.447454Z",
     "shell.execute_reply": "2023-11-29T19:35:17.446278Z"
    },
    "papermill": {
     "duration": 2.881767,
     "end_time": "2023-11-29T19:35:17.450765",
     "exception": false,
     "start_time": "2023-11-29T19:35:14.568998",
     "status": "completed"
    },
    "tags": []
   },
   "outputs": [],
   "source": [
    "training_path = '/kaggle/input/daigt-v2-train-dataset/train_v2_drcat_02.csv'\n",
    "test_path = '/kaggle/input/llm-detect-ai-generated-text/test_essays.csv'\n",
    "data_frame, train, test = read_data(training_path, test_path)"
   ]
  },
  {
   "cell_type": "code",
   "execution_count": null,
   "id": "447103f1",
   "metadata": {
    "execution": {
     "iopub.execute_input": "2023-11-21T19:15:53.704865Z",
     "iopub.status.busy": "2023-11-21T19:15:53.703996Z",
     "iopub.status.idle": "2023-11-21T19:15:53.745109Z",
     "shell.execute_reply": "2023-11-21T19:15:53.743591Z",
     "shell.execute_reply.started": "2023-11-21T19:15:53.704830Z"
    },
    "papermill": {
     "duration": 0.006278,
     "end_time": "2023-11-29T19:35:17.464667",
     "exception": false,
     "start_time": "2023-11-29T19:35:17.458389",
     "status": "completed"
    },
    "tags": []
   },
   "outputs": [],
   "source": []
  },
  {
   "cell_type": "code",
   "execution_count": null,
   "id": "1e400204",
   "metadata": {
    "execution": {
     "iopub.execute_input": "2023-11-21T19:13:16.756825Z",
     "iopub.status.busy": "2023-11-21T19:13:16.756384Z",
     "iopub.status.idle": "2023-11-21T19:13:16.800573Z",
     "shell.execute_reply": "2023-11-21T19:13:16.799143Z",
     "shell.execute_reply.started": "2023-11-21T19:13:16.756793Z"
    },
    "papermill": {
     "duration": 0.005175,
     "end_time": "2023-11-29T19:35:17.475784",
     "exception": false,
     "start_time": "2023-11-29T19:35:17.470609",
     "status": "completed"
    },
    "tags": []
   },
   "outputs": [],
   "source": []
  },
  {
   "cell_type": "code",
   "execution_count": 7,
   "id": "128f7b06",
   "metadata": {
    "execution": {
     "iopub.execute_input": "2023-11-29T19:35:17.489214Z",
     "iopub.status.busy": "2023-11-29T19:35:17.488433Z",
     "iopub.status.idle": "2023-11-29T19:36:17.647479Z",
     "shell.execute_reply": "2023-11-29T19:36:17.646142Z"
    },
    "papermill": {
     "duration": 60.169244,
     "end_time": "2023-11-29T19:36:17.650570",
     "exception": false,
     "start_time": "2023-11-29T19:35:17.481326",
     "status": "completed"
    },
    "tags": []
   },
   "outputs": [],
   "source": [
    "train = pd.read_csv(\"/kaggle/input/daigt-v2-train-dataset/train_v2_drcat_02.csv\")\n",
    "train = train[train.RDizzl3_seven == True].reset_index(drop=True)\n",
    "test = pd.read_csv('/kaggle/input/llm-detect-ai-generated-text/test_essays.csv')\n",
    "df = pd.concat([train['text'], test['text']], axis=0)\n",
    "vectorizer = TfidfVectorizer(ngram_range=(1, 3),sublinear_tf=True)\n",
    "X = vectorizer.fit_transform(df)"
   ]
  },
  {
   "cell_type": "code",
   "execution_count": 8,
   "id": "cfa97bbe",
   "metadata": {
    "execution": {
     "iopub.execute_input": "2023-11-29T19:36:17.663787Z",
     "iopub.status.busy": "2023-11-29T19:36:17.663323Z",
     "iopub.status.idle": "2023-11-29T19:44:45.411569Z",
     "shell.execute_reply": "2023-11-29T19:44:45.410333Z"
    },
    "papermill": {
     "duration": 507.758383,
     "end_time": "2023-11-29T19:44:45.414600",
     "exception": false,
     "start_time": "2023-11-29T19:36:17.656217",
     "status": "completed"
    },
    "tags": []
   },
   "outputs": [],
   "source": [
    "predict = model_prediction(train, X)"
   ]
  },
  {
   "cell_type": "code",
   "execution_count": null,
   "id": "ca38e967",
   "metadata": {
    "execution": {
     "iopub.execute_input": "2023-11-29T19:26:53.028128Z",
     "iopub.status.busy": "2023-11-29T19:26:53.027736Z",
     "iopub.status.idle": "2023-11-29T19:26:53.036047Z",
     "shell.execute_reply": "2023-11-29T19:26:53.035106Z",
     "shell.execute_reply.started": "2023-11-29T19:26:53.028100Z"
    },
    "papermill": {
     "duration": 0.005841,
     "end_time": "2023-11-29T19:44:45.426631",
     "exception": false,
     "start_time": "2023-11-29T19:44:45.420790",
     "status": "completed"
    },
    "tags": []
   },
   "outputs": [],
   "source": []
  },
  {
   "cell_type": "code",
   "execution_count": 9,
   "id": "56d88ea8",
   "metadata": {
    "execution": {
     "iopub.execute_input": "2023-11-29T19:44:45.440504Z",
     "iopub.status.busy": "2023-11-29T19:44:45.439721Z",
     "iopub.status.idle": "2023-11-29T19:44:45.451888Z",
     "shell.execute_reply": "2023-11-29T19:44:45.450298Z"
    },
    "papermill": {
     "duration": 0.022754,
     "end_time": "2023-11-29T19:44:45.455072",
     "exception": false,
     "start_time": "2023-11-29T19:44:45.432318",
     "status": "completed"
    },
    "tags": []
   },
   "outputs": [],
   "source": [
    "pd.DataFrame({'id':test[\"id\"], 'generated':predict}).to_csv('submission.csv', index=False)"
   ]
  },
  {
   "cell_type": "code",
   "execution_count": null,
   "id": "979cba56",
   "metadata": {
    "papermill": {
     "duration": 0.005383,
     "end_time": "2023-11-29T19:44:45.466524",
     "exception": false,
     "start_time": "2023-11-29T19:44:45.461141",
     "status": "completed"
    },
    "tags": []
   },
   "outputs": [],
   "source": []
  }
 ],
 "metadata": {
  "kaggle": {
   "accelerator": "none",
   "dataSources": [
    {
     "databundleVersionId": 6888007,
     "sourceId": 61542,
     "sourceType": "competition"
    },
    {
     "datasetId": 3937441,
     "sourceId": 6868189,
     "sourceType": "datasetVersion"
    },
    {
     "datasetId": 4005256,
     "sourceId": 6977472,
     "sourceType": "datasetVersion"
    }
   ],
   "dockerImageVersionId": 30588,
   "isGpuEnabled": false,
   "isInternetEnabled": false,
   "language": "python",
   "sourceType": "notebook"
  },
  "kernelspec": {
   "display_name": "Python 3",
   "language": "python",
   "name": "python3"
  },
  "language_info": {
   "codemirror_mode": {
    "name": "ipython",
    "version": 3
   },
   "file_extension": ".py",
   "mimetype": "text/x-python",
   "name": "python",
   "nbconvert_exporter": "python",
   "pygments_lexer": "ipython3",
   "version": "3.10.12"
  },
  "papermill": {
   "default_parameters": {},
   "duration": 578.066998,
   "end_time": "2023-11-29T19:44:46.598836",
   "environment_variables": {},
   "exception": null,
   "input_path": "__notebook__.ipynb",
   "output_path": "__notebook__.ipynb",
   "parameters": {},
   "start_time": "2023-11-29T19:35:08.531838",
   "version": "2.4.0"
  }
 },
 "nbformat": 4,
 "nbformat_minor": 5
}
