{
 "cells": [
  {
   "cell_type": "code",
   "execution_count": 1,
   "id": "bf46cc86",
   "metadata": {
    "_cell_guid": "b1076dfc-b9ad-4769-8c92-a6c4dae69d19",
    "_uuid": "8f2839f25d086af736a60e9eeb907d3b93b6e0e5",
    "execution": {
     "iopub.execute_input": "2023-11-21T19:27:28.380252Z",
     "iopub.status.busy": "2023-11-21T19:27:28.379896Z",
     "iopub.status.idle": "2023-11-21T19:27:29.108925Z",
     "shell.execute_reply": "2023-11-21T19:27:29.107883Z"
    },
    "papermill": {
     "duration": 0.737204,
     "end_time": "2023-11-21T19:27:29.111083",
     "exception": false,
     "start_time": "2023-11-21T19:27:28.373879",
     "status": "completed"
    },
    "tags": []
   },
   "outputs": [
    {
     "name": "stdout",
     "output_type": "stream",
     "text": [
      "/kaggle/input/llm-detect-ai-generated-text/sample_submission.csv\n",
      "/kaggle/input/llm-detect-ai-generated-text/train_prompts.csv\n",
      "/kaggle/input/llm-detect-ai-generated-text/test_essays.csv\n",
      "/kaggle/input/llm-detect-ai-generated-text/train_essays.csv\n",
      "/kaggle/input/llm-generated-essays/ai_generated_train_essays.csv\n",
      "/kaggle/input/llm-generated-essays/ai_generated_train_essays_gpt-4.csv\n",
      "/kaggle/input/daigt-v2-train-dataset/train_v2_drcat_02.csv\n"
     ]
    }
   ],
   "source": [
    "# This Python 3 environment comes with many helpful analytics libraries installed\n",
    "# It is defined by the kaggle/python Docker image: https://github.com/kaggle/docker-python\n",
    "# For example, here's several helpful packages to load\n",
    "\n",
    "import numpy as np # linear algebra\n",
    "import pandas as pd # data processing, CSV file I/O (e.g. pd.read_csv)\n",
    "\n",
    "# Input data files are available in the read-only \"../input/\" directory\n",
    "# For example, running this (by clicking run or pressing Shift+Enter) will list all files under the input directory\n",
    "\n",
    "import os\n",
    "for dirname, _, filenames in os.walk('/kaggle/input'):\n",
    "    for filename in filenames:\n",
    "        print(os.path.join(dirname, filename))\n",
    "\n",
    "# You can write up to 20GB to the current directory (/kaggle/working/) that gets preserved as output when you create a version using \"Save & Run All\" \n",
    "# You can also write temporary files to /kaggle/temp/, but they won't be saved outside of the current session"
   ]
  },
  {
   "cell_type": "raw",
   "id": "f311941d",
   "metadata": {
    "papermill": {
     "duration": 0.005071,
     "end_time": "2023-11-21T19:27:29.121057",
     "exception": false,
     "start_time": "2023-11-21T19:27:29.115986",
     "status": "completed"
    },
    "tags": []
   },
   "source": []
  },
  {
   "cell_type": "code",
   "execution_count": 2,
   "id": "84d5ce4f",
   "metadata": {
    "execution": {
     "iopub.execute_input": "2023-11-21T19:27:29.130881Z",
     "iopub.status.busy": "2023-11-21T19:27:29.130479Z",
     "iopub.status.idle": "2023-11-21T19:27:30.324989Z",
     "shell.execute_reply": "2023-11-21T19:27:30.324232Z"
    },
    "papermill": {
     "duration": 1.201962,
     "end_time": "2023-11-21T19:27:30.327300",
     "exception": false,
     "start_time": "2023-11-21T19:27:29.125338",
     "status": "completed"
    },
    "tags": []
   },
   "outputs": [
    {
     "name": "stderr",
     "output_type": "stream",
     "text": [
      "/opt/conda/lib/python3.10/site-packages/scipy/__init__.py:146: UserWarning: A NumPy version >=1.16.5 and <1.23.0 is required for this version of SciPy (detected version 1.24.3\n",
      "  warnings.warn(f\"A NumPy version >={np_minversion} and <{np_maxversion}\"\n"
     ]
    }
   ],
   "source": [
    "import numpy as np\n",
    "import pandas as pd\n",
    "from sklearn.linear_model import LogisticRegression\n",
    "from sklearn.feature_extraction.text import TfidfVectorizer\n",
    "from sklearn.ensemble import VotingClassifier\n",
    "from sklearn.linear_model import SGDClassifier"
   ]
  },
  {
   "cell_type": "code",
   "execution_count": 3,
   "id": "8e2276ba",
   "metadata": {
    "execution": {
     "iopub.execute_input": "2023-11-21T19:27:30.337526Z",
     "iopub.status.busy": "2023-11-21T19:27:30.337265Z",
     "iopub.status.idle": "2023-11-21T19:27:30.342671Z",
     "shell.execute_reply": "2023-11-21T19:27:30.341773Z"
    },
    "papermill": {
     "duration": 0.012487,
     "end_time": "2023-11-21T19:27:30.344483",
     "exception": false,
     "start_time": "2023-11-21T19:27:30.331996",
     "status": "completed"
    },
    "tags": []
   },
   "outputs": [],
   "source": [
    "def read_data(training_path, test_path):\n",
    "    train = pd.read_csv(training_path)\n",
    "    train = train[train.RDizzl3_seven == True].reset_index(drop=True)\n",
    "    test = pd.read_csv(test_path)\n",
    "    df = pd.concat([train['text'], test['text']], axis=0)\n",
    "    \n",
    "    return df, train, test"
   ]
  },
  {
   "cell_type": "code",
   "execution_count": 4,
   "id": "ed3beebf",
   "metadata": {
    "execution": {
     "iopub.execute_input": "2023-11-21T19:27:30.354181Z",
     "iopub.status.busy": "2023-11-21T19:27:30.353913Z",
     "iopub.status.idle": "2023-11-21T19:27:30.358054Z",
     "shell.execute_reply": "2023-11-21T19:27:30.357247Z"
    },
    "papermill": {
     "duration": 0.01106,
     "end_time": "2023-11-21T19:27:30.359897",
     "exception": false,
     "start_time": "2023-11-21T19:27:30.348837",
     "status": "completed"
    },
    "tags": []
   },
   "outputs": [],
   "source": [
    "def vectorization(data_frame):\n",
    "    vectorizer = TfidfVectorizer(ngram_range=(1, 3),sublinear_tf=True)\n",
    "    X = vectorizer(data_frame)\n",
    "    return X"
   ]
  },
  {
   "cell_type": "code",
   "execution_count": 5,
   "id": "892274f0",
   "metadata": {
    "execution": {
     "iopub.execute_input": "2023-11-21T19:27:30.369725Z",
     "iopub.status.busy": "2023-11-21T19:27:30.369432Z",
     "iopub.status.idle": "2023-11-21T19:27:30.375030Z",
     "shell.execute_reply": "2023-11-21T19:27:30.374261Z"
    },
    "papermill": {
     "duration": 0.012523,
     "end_time": "2023-11-21T19:27:30.376889",
     "exception": false,
     "start_time": "2023-11-21T19:27:30.364366",
     "status": "completed"
    },
    "tags": []
   },
   "outputs": [],
   "source": [
    "def model_prediction(train, X):\n",
    "    lr_model = LogisticRegression()\n",
    "    sgd_model = SGDClassifier(max_iter=5000, tol=1e-3, loss=\"modified_huber\")\n",
    "    ensemble = VotingClassifier(estimators=[('lr', lr_model), ('sgd', sgd_model)], weights=[0.1,0.9], voting='soft')\n",
    "    ensemble.fit(X[:train.shape[0]], train.label)\n",
    "    preds_test = ensemble.predict_proba(X[train.shape[0]:])[:,1]\n",
    "    return preds_test"
   ]
  },
  {
   "cell_type": "code",
   "execution_count": 6,
   "id": "55de1bdd",
   "metadata": {
    "execution": {
     "iopub.execute_input": "2023-11-21T19:27:30.386521Z",
     "iopub.status.busy": "2023-11-21T19:27:30.386234Z",
     "iopub.status.idle": "2023-11-21T19:27:32.599785Z",
     "shell.execute_reply": "2023-11-21T19:27:32.598754Z"
    },
    "papermill": {
     "duration": 2.221255,
     "end_time": "2023-11-21T19:27:32.602425",
     "exception": false,
     "start_time": "2023-11-21T19:27:30.381170",
     "status": "completed"
    },
    "tags": []
   },
   "outputs": [],
   "source": [
    "training_path = '/kaggle/input/daigt-v2-train-dataset/train_v2_drcat_02.csv'\n",
    "test_path = '/kaggle/input/llm-detect-ai-generated-text/test_essays.csv'\n",
    "data_frame, train, test = read_data(training_path, test_path)"
   ]
  },
  {
   "cell_type": "code",
   "execution_count": null,
   "id": "1dfb57ae",
   "metadata": {
    "execution": {
     "iopub.execute_input": "2023-11-21T19:15:53.704865Z",
     "iopub.status.busy": "2023-11-21T19:15:53.703996Z",
     "iopub.status.idle": "2023-11-21T19:15:53.745109Z",
     "shell.execute_reply": "2023-11-21T19:15:53.743591Z",
     "shell.execute_reply.started": "2023-11-21T19:15:53.704830Z"
    },
    "papermill": {
     "duration": 0.0056,
     "end_time": "2023-11-21T19:27:32.613758",
     "exception": false,
     "start_time": "2023-11-21T19:27:32.608158",
     "status": "completed"
    },
    "tags": []
   },
   "outputs": [],
   "source": []
  },
  {
   "cell_type": "code",
   "execution_count": null,
   "id": "fc88d8d6",
   "metadata": {
    "execution": {
     "iopub.execute_input": "2023-11-21T19:13:16.756825Z",
     "iopub.status.busy": "2023-11-21T19:13:16.756384Z",
     "iopub.status.idle": "2023-11-21T19:13:16.800573Z",
     "shell.execute_reply": "2023-11-21T19:13:16.799143Z",
     "shell.execute_reply.started": "2023-11-21T19:13:16.756793Z"
    },
    "papermill": {
     "duration": 0.00416,
     "end_time": "2023-11-21T19:27:32.622367",
     "exception": false,
     "start_time": "2023-11-21T19:27:32.618207",
     "status": "completed"
    },
    "tags": []
   },
   "outputs": [],
   "source": []
  },
  {
   "cell_type": "code",
   "execution_count": 7,
   "id": "1730f01c",
   "metadata": {
    "execution": {
     "iopub.execute_input": "2023-11-21T19:27:32.632247Z",
     "iopub.status.busy": "2023-11-21T19:27:32.631964Z",
     "iopub.status.idle": "2023-11-21T19:28:17.208356Z",
     "shell.execute_reply": "2023-11-21T19:28:17.207538Z"
    },
    "papermill": {
     "duration": 44.584204,
     "end_time": "2023-11-21T19:28:17.210893",
     "exception": false,
     "start_time": "2023-11-21T19:27:32.626689",
     "status": "completed"
    },
    "tags": []
   },
   "outputs": [],
   "source": [
    "train = pd.read_csv(\"/kaggle/input/daigt-v2-train-dataset/train_v2_drcat_02.csv\")\n",
    "train = train[train.RDizzl3_seven == True].reset_index(drop=True)\n",
    "test = pd.read_csv('/kaggle/input/llm-detect-ai-generated-text/test_essays.csv')\n",
    "df = pd.concat([train['text'], test['text']], axis=0)\n",
    "vectorizer = TfidfVectorizer(ngram_range=(1, 3),sublinear_tf=True)\n",
    "X = vectorizer.fit_transform(df)"
   ]
  },
  {
   "cell_type": "code",
   "execution_count": 8,
   "id": "8326fccd",
   "metadata": {
    "execution": {
     "iopub.execute_input": "2023-11-21T19:28:17.221428Z",
     "iopub.status.busy": "2023-11-21T19:28:17.221127Z",
     "iopub.status.idle": "2023-11-21T19:29:17.269351Z",
     "shell.execute_reply": "2023-11-21T19:29:17.267641Z"
    },
    "papermill": {
     "duration": 60.058859,
     "end_time": "2023-11-21T19:29:17.274633",
     "exception": false,
     "start_time": "2023-11-21T19:28:17.215774",
     "status": "completed"
    },
    "tags": []
   },
   "outputs": [
    {
     "name": "stderr",
     "output_type": "stream",
     "text": [
      "/opt/conda/lib/python3.10/site-packages/sklearn/utils/validation.py:605: FutureWarning: is_sparse is deprecated and will be removed in a future version. Check `isinstance(dtype, pd.SparseDtype)` instead.\n",
      "  if is_sparse(pd_dtype):\n",
      "/opt/conda/lib/python3.10/site-packages/sklearn/utils/validation.py:614: FutureWarning: is_sparse is deprecated and will be removed in a future version. Check `isinstance(dtype, pd.SparseDtype)` instead.\n",
      "  if is_sparse(pd_dtype) or not is_extension_array_dtype(pd_dtype):\n",
      "/opt/conda/lib/python3.10/site-packages/sklearn/utils/validation.py:605: FutureWarning: is_sparse is deprecated and will be removed in a future version. Check `isinstance(dtype, pd.SparseDtype)` instead.\n",
      "  if is_sparse(pd_dtype):\n",
      "/opt/conda/lib/python3.10/site-packages/sklearn/utils/validation.py:614: FutureWarning: is_sparse is deprecated and will be removed in a future version. Check `isinstance(dtype, pd.SparseDtype)` instead.\n",
      "  if is_sparse(pd_dtype) or not is_extension_array_dtype(pd_dtype):\n",
      "/opt/conda/lib/python3.10/site-packages/sklearn/utils/validation.py:605: FutureWarning: is_sparse is deprecated and will be removed in a future version. Check `isinstance(dtype, pd.SparseDtype)` instead.\n",
      "  if is_sparse(pd_dtype):\n",
      "/opt/conda/lib/python3.10/site-packages/sklearn/utils/validation.py:614: FutureWarning: is_sparse is deprecated and will be removed in a future version. Check `isinstance(dtype, pd.SparseDtype)` instead.\n",
      "  if is_sparse(pd_dtype) or not is_extension_array_dtype(pd_dtype):\n",
      "/opt/conda/lib/python3.10/site-packages/sklearn/utils/validation.py:605: FutureWarning: is_sparse is deprecated and will be removed in a future version. Check `isinstance(dtype, pd.SparseDtype)` instead.\n",
      "  if is_sparse(pd_dtype):\n",
      "/opt/conda/lib/python3.10/site-packages/sklearn/utils/validation.py:614: FutureWarning: is_sparse is deprecated and will be removed in a future version. Check `isinstance(dtype, pd.SparseDtype)` instead.\n",
      "  if is_sparse(pd_dtype) or not is_extension_array_dtype(pd_dtype):\n"
     ]
    }
   ],
   "source": [
    "predict = model_prediction(train, X)"
   ]
  },
  {
   "cell_type": "code",
   "execution_count": null,
   "id": "735f5a64",
   "metadata": {
    "execution": {
     "iopub.execute_input": "2023-11-21T19:22:22.038497Z",
     "iopub.status.busy": "2023-11-21T19:22:22.037771Z",
     "iopub.status.idle": "2023-11-21T19:22:22.045527Z",
     "shell.execute_reply": "2023-11-21T19:22:22.044641Z",
     "shell.execute_reply.started": "2023-11-21T19:22:22.038466Z"
    },
    "papermill": {
     "duration": 0.010329,
     "end_time": "2023-11-21T19:29:17.297372",
     "exception": false,
     "start_time": "2023-11-21T19:29:17.287043",
     "status": "completed"
    },
    "tags": []
   },
   "outputs": [],
   "source": []
  },
  {
   "cell_type": "code",
   "execution_count": 9,
   "id": "6f869b79",
   "metadata": {
    "execution": {
     "iopub.execute_input": "2023-11-21T19:29:17.319320Z",
     "iopub.status.busy": "2023-11-21T19:29:17.318765Z",
     "iopub.status.idle": "2023-11-21T19:29:17.329964Z",
     "shell.execute_reply": "2023-11-21T19:29:17.328716Z"
    },
    "papermill": {
     "duration": 0.025805,
     "end_time": "2023-11-21T19:29:17.333440",
     "exception": false,
     "start_time": "2023-11-21T19:29:17.307635",
     "status": "completed"
    },
    "tags": []
   },
   "outputs": [],
   "source": [
    "pd.DataFrame({'id':test[\"id\"], 'generated':predict}).to_csv('submission.csv', index=False)"
   ]
  },
  {
   "cell_type": "code",
   "execution_count": null,
   "id": "ffd2aa05",
   "metadata": {
    "papermill": {
     "duration": 0.010374,
     "end_time": "2023-11-21T19:29:17.354210",
     "exception": false,
     "start_time": "2023-11-21T19:29:17.343836",
     "status": "completed"
    },
    "tags": []
   },
   "outputs": [],
   "source": []
  }
 ],
 "metadata": {
  "kaggle": {
   "accelerator": "gpu",
   "dataSources": [
    {
     "databundleVersionId": 6888007,
     "sourceId": 61542,
     "sourceType": "competition"
    },
    {
     "datasetId": 3937441,
     "sourceId": 6868189,
     "sourceType": "datasetVersion"
    },
    {
     "datasetId": 4005256,
     "sourceId": 6977472,
     "sourceType": "datasetVersion"
    }
   ],
   "dockerImageVersionId": 30588,
   "isGpuEnabled": true,
   "isInternetEnabled": false,
   "language": "python",
   "sourceType": "notebook"
  },
  "kernelspec": {
   "display_name": "Python 3",
   "language": "python",
   "name": "python3"
  },
  "language_info": {
   "codemirror_mode": {
    "name": "ipython",
    "version": 3
   },
   "file_extension": ".py",
   "mimetype": "text/x-python",
   "name": "python",
   "nbconvert_exporter": "python",
   "pygments_lexer": "ipython3",
   "version": "3.10.12"
  },
  "papermill": {
   "default_parameters": {},
   "duration": 113.100109,
   "end_time": "2023-11-21T19:29:18.091303",
   "environment_variables": {},
   "exception": null,
   "input_path": "__notebook__.ipynb",
   "output_path": "__notebook__.ipynb",
   "parameters": {},
   "start_time": "2023-11-21T19:27:24.991194",
   "version": "2.4.0"
  }
 },
 "nbformat": 4,
 "nbformat_minor": 5
}
