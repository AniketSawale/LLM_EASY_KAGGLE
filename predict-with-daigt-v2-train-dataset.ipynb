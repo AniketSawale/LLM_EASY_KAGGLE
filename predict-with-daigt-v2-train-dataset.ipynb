{
 "cells": [
  {
   "cell_type": "code",
   "execution_count": 1,
   "id": "f47101a2",
   "metadata": {
    "_cell_guid": "b1076dfc-b9ad-4769-8c92-a6c4dae69d19",
    "_uuid": "8f2839f25d086af736a60e9eeb907d3b93b6e0e5",
    "execution": {
     "iopub.execute_input": "2023-11-29T19:27:33.756145Z",
     "iopub.status.busy": "2023-11-29T19:27:33.755290Z",
     "iopub.status.idle": "2023-11-29T19:27:34.427227Z",
     "shell.execute_reply": "2023-11-29T19:27:34.426286Z"
    },
    "papermill": {
     "duration": 0.680536,
     "end_time": "2023-11-29T19:27:34.429518",
     "exception": false,
     "start_time": "2023-11-29T19:27:33.748982",
     "status": "completed"
    },
    "tags": []
   },
   "outputs": [
    {
     "name": "stdout",
     "output_type": "stream",
     "text": [
      "/kaggle/input/llm-generated-essays/ai_generated_train_essays.csv\n",
      "/kaggle/input/llm-generated-essays/ai_generated_train_essays_gpt-4.csv\n",
      "/kaggle/input/llm-detect-ai-generated-text/sample_submission.csv\n",
      "/kaggle/input/llm-detect-ai-generated-text/train_prompts.csv\n",
      "/kaggle/input/llm-detect-ai-generated-text/test_essays.csv\n",
      "/kaggle/input/llm-detect-ai-generated-text/train_essays.csv\n",
      "/kaggle/input/daigt-v2-train-dataset/train_v2_drcat_02.csv\n"
     ]
    }
   ],
   "source": [
    "# This Python 3 environment comes with many helpful analytics libraries installed\n",
    "# It is defined by the kaggle/python Docker image: https://github.com/kaggle/docker-python\n",
    "# For example, here's several helpful packages to load\n",
    "\n",
    "import numpy as np # linear algebra\n",
    "import pandas as pd # data processing, CSV file I/O (e.g. pd.read_csv)\n",
    "\n",
    "# Input data files are available in the read-only \"../input/\" directory\n",
    "# For example, running this (by clicking run or pressing Shift+Enter) will list all files under the input directory\n",
    "\n",
    "import os\n",
    "for dirname, _, filenames in os.walk('/kaggle/input'):\n",
    "    for filename in filenames:\n",
    "        print(os.path.join(dirname, filename))\n",
    "\n",
    "# You can write up to 20GB to the current directory (/kaggle/working/) that gets preserved as output when you create a version using \"Save & Run All\" \n",
    "# You can also write temporary files to /kaggle/temp/, but they won't be saved outside of the current session"
   ]
  },
  {
   "cell_type": "raw",
   "id": "2ade90d2",
   "metadata": {
    "papermill": {
     "duration": 0.004112,
     "end_time": "2023-11-29T19:27:34.438300",
     "exception": false,
     "start_time": "2023-11-29T19:27:34.434188",
     "status": "completed"
    },
    "tags": []
   },
   "source": []
  },
  {
   "cell_type": "code",
   "execution_count": 2,
   "id": "14c509a6",
   "metadata": {
    "execution": {
     "iopub.execute_input": "2023-11-29T19:27:34.448112Z",
     "iopub.status.busy": "2023-11-29T19:27:34.447704Z",
     "iopub.status.idle": "2023-11-29T19:27:35.496718Z",
     "shell.execute_reply": "2023-11-29T19:27:35.495925Z"
    },
    "papermill": {
     "duration": 1.056566,
     "end_time": "2023-11-29T19:27:35.499124",
     "exception": false,
     "start_time": "2023-11-29T19:27:34.442558",
     "status": "completed"
    },
    "tags": []
   },
   "outputs": [
    {
     "name": "stderr",
     "output_type": "stream",
     "text": [
      "/opt/conda/lib/python3.10/site-packages/scipy/__init__.py:146: UserWarning: A NumPy version >=1.16.5 and <1.23.0 is required for this version of SciPy (detected version 1.24.3\n",
      "  warnings.warn(f\"A NumPy version >={np_minversion} and <{np_maxversion}\"\n"
     ]
    }
   ],
   "source": [
    "import numpy as np\n",
    "import pandas as pd\n",
    "from sklearn.linear_model import LogisticRegression\n",
    "from sklearn.feature_extraction.text import TfidfVectorizer\n",
    "from sklearn.ensemble import VotingClassifier\n",
    "from sklearn.linear_model import SGDClassifier\n",
    "from sklearn import tree"
   ]
  },
  {
   "cell_type": "code",
   "execution_count": 3,
   "id": "27db0716",
   "metadata": {
    "execution": {
     "iopub.execute_input": "2023-11-29T19:27:35.509774Z",
     "iopub.status.busy": "2023-11-29T19:27:35.509466Z",
     "iopub.status.idle": "2023-11-29T19:27:35.514958Z",
     "shell.execute_reply": "2023-11-29T19:27:35.514111Z"
    },
    "papermill": {
     "duration": 0.012827,
     "end_time": "2023-11-29T19:27:35.516810",
     "exception": false,
     "start_time": "2023-11-29T19:27:35.503983",
     "status": "completed"
    },
    "tags": []
   },
   "outputs": [],
   "source": [
    "def read_data(training_path, test_path):\n",
    "    train = pd.read_csv(training_path)\n",
    "    train = train[train.RDizzl3_seven == True].reset_index(drop=True)\n",
    "    test = pd.read_csv(test_path)\n",
    "    df = pd.concat([train['text'], test['text']], axis=0)\n",
    "    \n",
    "    return df, train, test"
   ]
  },
  {
   "cell_type": "code",
   "execution_count": 4,
   "id": "c9195567",
   "metadata": {
    "execution": {
     "iopub.execute_input": "2023-11-29T19:27:35.526837Z",
     "iopub.status.busy": "2023-11-29T19:27:35.526563Z",
     "iopub.status.idle": "2023-11-29T19:27:35.531897Z",
     "shell.execute_reply": "2023-11-29T19:27:35.531202Z"
    },
    "papermill": {
     "duration": 0.012414,
     "end_time": "2023-11-29T19:27:35.533738",
     "exception": false,
     "start_time": "2023-11-29T19:27:35.521324",
     "status": "completed"
    },
    "tags": []
   },
   "outputs": [],
   "source": [
    "def vectorization(data_frame):\n",
    "    vectorizer = TfidfVectorizer(ngram_range=(1, 3),sublinear_tf=True)\n",
    "    X = vectorizer(data_frame)\n",
    "    return X"
   ]
  },
  {
   "cell_type": "code",
   "execution_count": 5,
   "id": "52fecf8c",
   "metadata": {
    "execution": {
     "iopub.execute_input": "2023-11-29T19:27:35.543782Z",
     "iopub.status.busy": "2023-11-29T19:27:35.543534Z",
     "iopub.status.idle": "2023-11-29T19:27:35.549377Z",
     "shell.execute_reply": "2023-11-29T19:27:35.548574Z"
    },
    "papermill": {
     "duration": 0.01312,
     "end_time": "2023-11-29T19:27:35.551226",
     "exception": false,
     "start_time": "2023-11-29T19:27:35.538106",
     "status": "completed"
    },
    "tags": []
   },
   "outputs": [],
   "source": [
    "def model_prediction(train, X):\n",
    "    lr_model = LogisticRegression()\n",
    "    sgd_model = SGDClassifier(max_iter=5000, tol=1e-3, loss=\"modified_huber\")\n",
    "    tree_model = tree.DecisionTreeClassifier()\n",
    "    ensemble = VotingClassifier(estimators=[('lr', lr_model), ('sgd', sgd_model), ('dt', tree_model)], weights=[0.1,0.5, 0.4], voting='soft')\n",
    "    ensemble.fit(X[:train.shape[0]], train.label)\n",
    "    preds_test = ensemble.predict_proba(X[train.shape[0]:])[:,1]\n",
    "    return preds_test"
   ]
  },
  {
   "cell_type": "code",
   "execution_count": 6,
   "id": "440025ba",
   "metadata": {
    "execution": {
     "iopub.execute_input": "2023-11-29T19:27:35.561087Z",
     "iopub.status.busy": "2023-11-29T19:27:35.560808Z",
     "iopub.status.idle": "2023-11-29T19:27:37.605503Z",
     "shell.execute_reply": "2023-11-29T19:27:37.604680Z"
    },
    "papermill": {
     "duration": 2.052225,
     "end_time": "2023-11-29T19:27:37.607871",
     "exception": false,
     "start_time": "2023-11-29T19:27:35.555646",
     "status": "completed"
    },
    "tags": []
   },
   "outputs": [],
   "source": [
    "training_path = '/kaggle/input/daigt-v2-train-dataset/train_v2_drcat_02.csv'\n",
    "test_path = '/kaggle/input/llm-detect-ai-generated-text/test_essays.csv'\n",
    "data_frame, train, test = read_data(training_path, test_path)"
   ]
  },
  {
   "cell_type": "code",
   "execution_count": null,
   "id": "137aab75",
   "metadata": {
    "execution": {
     "iopub.execute_input": "2023-11-21T19:15:53.704865Z",
     "iopub.status.busy": "2023-11-21T19:15:53.703996Z",
     "iopub.status.idle": "2023-11-21T19:15:53.745109Z",
     "shell.execute_reply": "2023-11-21T19:15:53.743591Z",
     "shell.execute_reply.started": "2023-11-21T19:15:53.704830Z"
    },
    "papermill": {
     "duration": 0.00476,
     "end_time": "2023-11-29T19:27:37.617744",
     "exception": false,
     "start_time": "2023-11-29T19:27:37.612984",
     "status": "completed"
    },
    "tags": []
   },
   "outputs": [],
   "source": []
  },
  {
   "cell_type": "code",
   "execution_count": null,
   "id": "5551991e",
   "metadata": {
    "execution": {
     "iopub.execute_input": "2023-11-21T19:13:16.756825Z",
     "iopub.status.busy": "2023-11-21T19:13:16.756384Z",
     "iopub.status.idle": "2023-11-21T19:13:16.800573Z",
     "shell.execute_reply": "2023-11-21T19:13:16.799143Z",
     "shell.execute_reply.started": "2023-11-21T19:13:16.756793Z"
    },
    "papermill": {
     "duration": 0.004322,
     "end_time": "2023-11-29T19:27:37.626878",
     "exception": false,
     "start_time": "2023-11-29T19:27:37.622556",
     "status": "completed"
    },
    "tags": []
   },
   "outputs": [],
   "source": []
  },
  {
   "cell_type": "code",
   "execution_count": 7,
   "id": "39126177",
   "metadata": {
    "execution": {
     "iopub.execute_input": "2023-11-29T19:27:37.637637Z",
     "iopub.status.busy": "2023-11-29T19:27:37.637300Z",
     "iopub.status.idle": "2023-11-29T19:28:24.177500Z",
     "shell.execute_reply": "2023-11-29T19:28:24.176506Z"
    },
    "papermill": {
     "duration": 46.548337,
     "end_time": "2023-11-29T19:28:24.180060",
     "exception": false,
     "start_time": "2023-11-29T19:27:37.631723",
     "status": "completed"
    },
    "tags": []
   },
   "outputs": [],
   "source": [
    "train = pd.read_csv(\"/kaggle/input/daigt-v2-train-dataset/train_v2_drcat_02.csv\")\n",
    "train = train[train.RDizzl3_seven == True].reset_index(drop=True)\n",
    "test = pd.read_csv('/kaggle/input/llm-detect-ai-generated-text/test_essays.csv')\n",
    "df = pd.concat([train['text'], test['text']], axis=0)\n",
    "vectorizer = TfidfVectorizer(ngram_range=(1, 3),sublinear_tf=True)\n",
    "X = vectorizer.fit_transform(df)"
   ]
  },
  {
   "cell_type": "code",
   "execution_count": 8,
   "id": "1760ead6",
   "metadata": {
    "execution": {
     "iopub.execute_input": "2023-11-29T19:28:24.190597Z",
     "iopub.status.busy": "2023-11-29T19:28:24.190294Z",
     "iopub.status.idle": "2023-11-29T19:35:21.327157Z",
     "shell.execute_reply": "2023-11-29T19:35:21.326282Z"
    },
    "papermill": {
     "duration": 417.144708,
     "end_time": "2023-11-29T19:35:21.329679",
     "exception": false,
     "start_time": "2023-11-29T19:28:24.184971",
     "status": "completed"
    },
    "tags": []
   },
   "outputs": [
    {
     "name": "stderr",
     "output_type": "stream",
     "text": [
      "/opt/conda/lib/python3.10/site-packages/sklearn/utils/validation.py:605: FutureWarning: is_sparse is deprecated and will be removed in a future version. Check `isinstance(dtype, pd.SparseDtype)` instead.\n",
      "  if is_sparse(pd_dtype):\n",
      "/opt/conda/lib/python3.10/site-packages/sklearn/utils/validation.py:614: FutureWarning: is_sparse is deprecated and will be removed in a future version. Check `isinstance(dtype, pd.SparseDtype)` instead.\n",
      "  if is_sparse(pd_dtype) or not is_extension_array_dtype(pd_dtype):\n",
      "/opt/conda/lib/python3.10/site-packages/sklearn/utils/validation.py:605: FutureWarning: is_sparse is deprecated and will be removed in a future version. Check `isinstance(dtype, pd.SparseDtype)` instead.\n",
      "  if is_sparse(pd_dtype):\n",
      "/opt/conda/lib/python3.10/site-packages/sklearn/utils/validation.py:614: FutureWarning: is_sparse is deprecated and will be removed in a future version. Check `isinstance(dtype, pd.SparseDtype)` instead.\n",
      "  if is_sparse(pd_dtype) or not is_extension_array_dtype(pd_dtype):\n",
      "/opt/conda/lib/python3.10/site-packages/sklearn/utils/validation.py:605: FutureWarning: is_sparse is deprecated and will be removed in a future version. Check `isinstance(dtype, pd.SparseDtype)` instead.\n",
      "  if is_sparse(pd_dtype):\n",
      "/opt/conda/lib/python3.10/site-packages/sklearn/utils/validation.py:614: FutureWarning: is_sparse is deprecated and will be removed in a future version. Check `isinstance(dtype, pd.SparseDtype)` instead.\n",
      "  if is_sparse(pd_dtype) or not is_extension_array_dtype(pd_dtype):\n",
      "/opt/conda/lib/python3.10/site-packages/sklearn/utils/validation.py:605: FutureWarning: is_sparse is deprecated and will be removed in a future version. Check `isinstance(dtype, pd.SparseDtype)` instead.\n",
      "  if is_sparse(pd_dtype):\n",
      "/opt/conda/lib/python3.10/site-packages/sklearn/utils/validation.py:614: FutureWarning: is_sparse is deprecated and will be removed in a future version. Check `isinstance(dtype, pd.SparseDtype)` instead.\n",
      "  if is_sparse(pd_dtype) or not is_extension_array_dtype(pd_dtype):\n"
     ]
    }
   ],
   "source": [
    "predict = model_prediction(train, X)"
   ]
  },
  {
   "cell_type": "code",
   "execution_count": null,
   "id": "f121ced1",
   "metadata": {
    "execution": {
     "iopub.execute_input": "2023-11-29T19:26:53.028128Z",
     "iopub.status.busy": "2023-11-29T19:26:53.027736Z",
     "iopub.status.idle": "2023-11-29T19:26:53.036047Z",
     "shell.execute_reply": "2023-11-29T19:26:53.035106Z",
     "shell.execute_reply.started": "2023-11-29T19:26:53.028100Z"
    },
    "papermill": {
     "duration": 0.004352,
     "end_time": "2023-11-29T19:35:21.339030",
     "exception": false,
     "start_time": "2023-11-29T19:35:21.334678",
     "status": "completed"
    },
    "tags": []
   },
   "outputs": [],
   "source": []
  },
  {
   "cell_type": "code",
   "execution_count": 9,
   "id": "ed1cbccc",
   "metadata": {
    "execution": {
     "iopub.execute_input": "2023-11-29T19:35:21.349430Z",
     "iopub.status.busy": "2023-11-29T19:35:21.349133Z",
     "iopub.status.idle": "2023-11-29T19:35:21.356467Z",
     "shell.execute_reply": "2023-11-29T19:35:21.355764Z"
    },
    "papermill": {
     "duration": 0.014657,
     "end_time": "2023-11-29T19:35:21.358291",
     "exception": false,
     "start_time": "2023-11-29T19:35:21.343634",
     "status": "completed"
    },
    "tags": []
   },
   "outputs": [],
   "source": [
    "pd.DataFrame({'id':test[\"id\"], 'generated':predict}).to_csv('submission.csv', index=False)"
   ]
  },
  {
   "cell_type": "code",
   "execution_count": null,
   "id": "a0640066",
   "metadata": {
    "papermill": {
     "duration": 0.004242,
     "end_time": "2023-11-29T19:35:21.366996",
     "exception": false,
     "start_time": "2023-11-29T19:35:21.362754",
     "status": "completed"
    },
    "tags": []
   },
   "outputs": [],
   "source": []
  }
 ],
 "metadata": {
  "kaggle": {
   "accelerator": "gpu",
   "dataSources": [
    {
     "databundleVersionId": 6888007,
     "sourceId": 61542,
     "sourceType": "competition"
    },
    {
     "datasetId": 3937441,
     "sourceId": 6868189,
     "sourceType": "datasetVersion"
    },
    {
     "datasetId": 4005256,
     "sourceId": 6977472,
     "sourceType": "datasetVersion"
    }
   ],
   "dockerImageVersionId": 30588,
   "isGpuEnabled": true,
   "isInternetEnabled": false,
   "language": "python",
   "sourceType": "notebook"
  },
  "kernelspec": {
   "display_name": "Python 3",
   "language": "python",
   "name": "python3"
  },
  "language_info": {
   "codemirror_mode": {
    "name": "ipython",
    "version": 3
   },
   "file_extension": ".py",
   "mimetype": "text/x-python",
   "name": "python",
   "nbconvert_exporter": "python",
   "pygments_lexer": "ipython3",
   "version": "3.10.12"
  },
  "papermill": {
   "default_parameters": {},
   "duration": 471.741303,
   "end_time": "2023-11-29T19:35:22.092057",
   "environment_variables": {},
   "exception": null,
   "input_path": "__notebook__.ipynb",
   "output_path": "__notebook__.ipynb",
   "parameters": {},
   "start_time": "2023-11-29T19:27:30.350754",
   "version": "2.4.0"
  }
 },
 "nbformat": 4,
 "nbformat_minor": 5
}
